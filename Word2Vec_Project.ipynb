{
 "cells": [
  {
   "cell_type": "markdown",
   "id": "b6eed90c-6c75-4d4d-8e9c-d26ef97f517f",
   "metadata": {},
   "source": [
    "# Word2Vec : Creating Word Embeddings with Pytorch"
   ]
  },
  {
   "cell_type": "markdown",
   "id": "6cf0eeec-d3ec-4c2c-897c-0bbdf3066151",
   "metadata": {},
   "source": [
    "References : \n",
    "* https://towardsdatascience.com/understanding-feature-engineering-part-4-deep-learning-methods-for-text-data-96c44370bbfa\n",
    "* https://www.coursera.org/learn/probabilistic-models-in-nlp/home/week/4"
   ]
  },
  {
   "cell_type": "markdown",
   "id": "7ac9c73c-640c-4a62-aa30-24405d784556",
   "metadata": {},
   "source": [
    "## Why do we need word embeddings ?\n",
    "\n",
    "When doing NLP, we are generally interested in being able to transform sentences or words into numeric representations, to then feed them to our algorithms and perform predictions.  Some simple methods of doing so include using term frequencies or n-grams among other things (counting the number of times a word appears in positive tweets vs. negative tweets for example)...  While these simple approaches can work quite well in some cases, sentences are essentially represented as \"Bags of Words\", meaning a lot of information is lost : sentence structure, semantics, what the usual context for a word is.  The word *cat* for example may be frequently accompanied by *a* or *the* to its left since it's a noun.  \n",
    "\n",
    "So how can we find more expressive numeric representations ?  This question motivated NLP researchers to create more sophisticated word representations, known as *word embeddings*.  These are *dense* vectors (vs. *sparse* vectors : vectors with high dimensionality where most of the values are 0s) and are now fundamental to any machine learning algorithm in NLP."
   ]
  },
  {
   "cell_type": "markdown",
   "id": "f85fd423-1218-42b6-9045-f83f4c064fff",
   "metadata": {
    "tags": []
   },
   "source": [
    "## What principle do these word embeddings rely on ?\n",
    "\n",
    "Creating word embeddings relies on the idea that \"You shall know a word by the company it keeps\" (Firth, 1957). In [distributional semantics](https://en.wikipedia.org/wiki/Distributional_semantics#Distributional_Hypothesis), the distributional hypothesis tells us that words which occur and are used in the same context are semantically similar to one another.  The word vectors (embeddings) created take into account this contextual information, and ideally, the resulting vectors for words that have *similar contexts* end up in the same area of the vector space :\n",
    "\n",
    "<img src='vector_space_example.jpg'/>"
   ]
  },
  {
   "cell_type": "markdown",
   "id": "9c82bb15-1ff2-42d1-8f68-fed1e9386c41",
   "metadata": {},
   "source": [
    "## The Word2Vec Model\n",
    "\n",
    "This model was created by Google in 2013 and is a predictive deep learning based model :  given neighboring words, the neural network has to *predict* the word to be found at the center (this is only one of the possible architectures).\n",
    "\n",
    "\n",
    "Essentially, this model can leverage raw text (meaning no manual annotations needed), create a vocabulary of possible words and generate dense word embeddings for each word. We can even specify the size of the word embedding vectors, which makes the dimensionality of the vectors much lower than the high-dimensional sparse vectors built using traditional Bag of Words models.\n",
    "\n",
    "The model architecture we will be looking at is called the **Continuous Bag of Words Model**."
   ]
  },
  {
   "cell_type": "markdown",
   "id": "ff704030-bc14-4be7-b0a6-c793005c3d11",
   "metadata": {},
   "source": [
    "## The Continuous Bag of Words Model (CBOW) "
   ]
  },
  {
   "cell_type": "markdown",
   "id": "89ba3bf7-15d1-4113-809f-f24416957de4",
   "metadata": {},
   "source": [
    "To create word embeddings, you need a corpus and a learning algorithm, a simple neural net in this case.  The embeddings are a set of vectors that will be extracted from the neural net once it is trained, and are actually a *by-product* of the following task : the main objective of the CBOW model is to predict a missing word based on its surrounding words.  The intuition is that updating the values in the vectors (that we will be extracting) based on this task yields vectors that capture distributional semantics, ie. how these words are used in language, and make good word embedings.\n",
    "\n",
    "<div style='text-align:center;'><img src='Embedding_method.png'/></div>"
   ]
  },
  {
   "cell_type": "markdown",
   "id": "73f7205a-3ac5-4ad7-84e3-b170b02ff3c8",
   "metadata": {},
   "source": [
    "The CBOW model architecture tries to predict the current target word (the center word) based on context words (the surrounding words). Let's take a simple example :\n",
    "> **“the quick brown fox jumps over the lazy dog”**.\n",
    "\n",
    "The sentence will be transformed into a series of examples for the model to train on : each example will consist of a (context_window, target_word) tuple.  Considering a context window of size $C=2$ (2 words to the left, 2 to the right, so 4 total) we would obtain :\n",
    "> Ex. 1 : (*[the, quick, fox, jumps]*, brown)  \n",
    "> Ex. 2 : (*[quick, brown, jumps, over]*, fox)  \n",
    "> Etc ...\n",
    "\n",
    "The neural net's task will be to predict the target word based on the context window words."
   ]
  },
  {
   "cell_type": "markdown",
   "id": "0e16ca46-8d17-4917-93f9-756699d07969",
   "metadata": {},
   "source": [
    "This means we can model this problem as a classification task such that we take in the context words as our input (X) and try to predict the target word (Y) out of all the possible words in the vocabulary.  This is essentialy a *multiclass* classification task (only 1 of the possible classes is correct), where a class is equivalent to a word in the vocabulary.  Here is an overview of the process : \n",
    "\n",
    "<div style='text-align:center;'><img src=\"CBOW_overview.png\"/></div>"
   ]
  },
  {
   "cell_type": "markdown",
   "id": "0a4f57ea-a2eb-43f4-9f29-badef4ade538",
   "metadata": {},
   "source": [
    "## Implementing the CBOW model\n",
    "\n",
    "Using text from Shakespeare's plays, you will implement the CBOW model from scratch, using pytorch to simplify the creation of the network architecture and training loop. The implementation will be divided into 4 parts: \n",
    "* **Building the corpus Vocab**\n",
    "* **Create the (context_window, target_word) examples**\n",
    "* **Build the neural network architecture**\n",
    "* **Train the model**\n",
    "* **Visualize the word embeddings**"
   ]
  },
  {
   "cell_type": "markdown",
   "id": "83df0d1b-a1ca-482a-a951-af8197f26b2d",
   "metadata": {},
   "source": [
    "### 1. Building the corpus Vocab"
   ]
  },
  {
   "cell_type": "markdown",
   "id": "b507afe8-8d4b-40f1-becb-81ee06da5c3c",
   "metadata": {},
   "source": [
    "In the next cell, the text has been loaded and split into tokens for you :"
   ]
  },
  {
   "cell_type": "code",
   "execution_count": 2,
   "id": "1b1b1cf6-51a2-446f-8b4e-5a62954a8984",
   "metadata": {},
   "outputs": [
    {
     "name": "stdout",
     "output_type": "stream",
     "text": [
      "Number of tokens: 111696 \n",
      " First 15 tokens :  ['this', 'is', 'the', 'etext', 'file', 'presented', 'by', 'project', 'gutenberg', '.', 'and', 'is', 'presented', 'in', 'cooperation']\n"
     ]
    }
   ],
   "source": [
    "import nltk\n",
    "from nltk.tokenize import word_tokenize\n",
    "import re  \n",
    "\n",
    "# dataset link :https://ocw.mit.edu/ans7870/6/6.006/s08/lecturenotes/files/t8.shakespeare.txt \n",
    "# you can clean some the the metatext if you wish\n",
    "with open('shakespeare_small.txt') as f:\n",
    "    text = f.read()   \n",
    "text = re.sub(r'[,!?;-]', '.',text)                                 #  Punktuations are replaced by .\n",
    "text = nltk.word_tokenize(text)                                     #  Tokenize string to words\n",
    "text = [ ch.lower() for ch in text if ch.isalpha() or ch == '.']    #  Lower case and drop non-alphabetical tokens\n",
    "print(\"Number of tokens:\", len(text), '\\n First 15 tokens : ', text[:15])  #  print data sample"
   ]
  },
  {
   "cell_type": "markdown",
   "id": "1c33b36f-b63a-4127-9a07-b86284a80491",
   "metadata": {},
   "source": [
    "Next you must :\n",
    "* Get the vocabulary and vocabulary size (the set() function can be useful...)\n",
    "* Create 2 dictionaries :\n",
    "    * word2idx => keys are words in vocab, values are a unique number you must attribute to each word\n",
    "    * idx2word => keys are a unique number, values are the corresponding word  \n",
    "    These dictionaries will allow you to map words in the vocab to unique numbers.  This is necessary as you will be feeding these numbers to the model, not the words directly.\n",
    "* Create the (context, target) example pairs and store them in a list called data."
   ]
  },
  {
   "cell_type": "code",
   "execution_count": 3,
   "id": "7fd682c6-2b2c-4f8f-b951-3a7639fe3616",
   "metadata": {},
   "outputs": [
    {
     "name": "stdout",
     "output_type": "stream",
     "text": [
      "Vocab size = 7860 (should be equal to 7860)\n"
     ]
    }
   ],
   "source": [
    "# get the vocab and vocab length \n",
    "vocab = set(text)\n",
    "vocab_size = len(vocab)\n",
    "# sort the vocab alphabetically so everyone has the same indexes in the next cells (this is not strictly necessary)\n",
    "vocab = sorted(vocab)\n",
    "print(f\"Vocab size = {vocab_size} (should be equal to 7860)\") # for small version"
   ]
  },
  {
   "cell_type": "code",
   "execution_count": 4,
   "id": "ae6492e7-adcc-453c-a05f-6cb59688c154",
   "metadata": {},
   "outputs": [
    {
     "name": "stdout",
     "output_type": "stream",
     "text": [
      "Index of the word 'king' :   3764\n",
      "Word which has index 3764:   king\n"
     ]
    }
   ],
   "source": [
    "# create the word2idx and idx2word dictionaries:\n",
    "word2idx = {word: idx for idx, word in enumerate(vocab)}\n",
    "idx2word = {idx: word for word, idx in word2idx.items()}\n",
    "# example of word to index mapping\n",
    "print(\"Index of the word 'king' :  \",word2idx['king'] )\n",
    "print(\"Word which has index 3764:  \",idx2word[3764] )"
   ]
  },
  {
   "cell_type": "code",
   "execution_count": 5,
   "id": "b1eaacbd-ba33-409f-8db7-f751e8540e81",
   "metadata": {
    "tags": []
   },
   "outputs": [
    {
     "name": "stdout",
     "output_type": "stream",
     "text": [
      "first 5 words : ['this', 'is', 'the', 'etext', 'file']\n",
      "example n°1 = (['this', 'is', 'etext', 'file'], 'the')\n",
      "context = ['this', 'is', 'etext', 'file']\n",
      "target = the\n",
      "Number of examples : 111692\n"
     ]
    }
   ],
   "source": [
    "# Going through the text, create a list of data examples, where each example consists of a (context, target) tuple.\n",
    "# The context can be represented as a list of the context words (2 before and 2 after)\n",
    "# You may start at word idx number 2 and end on the second to last word.\n",
    "\n",
    "data = []\n",
    "\n",
    "# loop to make training examples\n",
    "for i in range(2, len(text) - 2):\n",
    "    context = [text[i - 2], text[i - 1], text[i + 1], text[i + 2]]\n",
    "    target = text[i]\n",
    "    data.append((context, target))\n",
    "\n",
    "\n",
    "# check if it works for the first example   \n",
    "print(f'first 5 words : {text[:5]}')\n",
    "print(f'example n°1 = {data[0]}')\n",
    "print(f'context = {data[0][0]}')\n",
    "print(f'target = {data[0][1]}')\n",
    "\n",
    "print(f'Number of examples : {len(data)}')\n",
    "# if this is too much data and training is too long on your computer, you can reduce the data size, removing some of the plays."
   ]
  },
  {
   "cell_type": "markdown",
   "id": "5212cb5a",
   "metadata": {},
   "source": [
    "Expected output is :\n",
    "first 5 words : ['this', 'is', 'the', 'etext', 'file']  \n",
    "example n°1 = (['this', 'is', 'etext', 'file'], 'the')   \n",
    "context = ['this', 'is', 'etext', 'file']  \n",
    "target = the  \n",
    "Number of examples : 111692"
   ]
  },
  {
   "cell_type": "markdown",
   "id": "2ec393b3-ece5-4da9-8cc5-b0441d607c19",
   "metadata": {},
   "source": [
    "### 2. Building the neural net architecture with pytorch"
   ]
  },
  {
   "cell_type": "code",
   "execution_count": 1,
   "id": "ac619996-e928-4a40-8d84-2978df3ca21f",
   "metadata": {},
   "outputs": [],
   "source": [
    "# https://pytorch.org/get-started/locally/ to see how to install pytorch if you\n",
    "# are working on your own computer\n",
    "# googlecolab is always an option\n",
    "import torch\n",
    "import torch.nn as nn\n",
    "import torch.nn.functional as F\n",
    "import torch.optim as optim"
   ]
  },
  {
   "cell_type": "markdown",
   "id": "791fadcc-bc27-4bce-af1e-2c3e3d85a591",
   "metadata": {},
   "source": [
    "#### 2.1 Batching the data examples"
   ]
  },
  {
   "cell_type": "markdown",
   "id": "4ee541dd",
   "metadata": {},
   "source": [
    "In order to accelerate the training process, we can **batch** training examples together.  This means that instead of feeding the model 1 example at a time, we feed it 16 or 32 or 64 examples in one go. The batchsize is up to you and is generally a power of 2.  Pytorch's `Dataloader`class takes care of this for you.  It takes as arguments a pytorch `Dataset`(`TensorDataset` in this case) and a `batch_size`.  \n",
    "\n",
    "To be istantiated, the `TensorDataset` class here will take 2 arguments:\n",
    "* a pytorch tensor of inputs \n",
    "* a pytorch tensor of targets.  \n",
    "\n",
    "The inputs will be the contexts in the data list created above, except the tokens will have to be transformed into indexes (ie. integer values) for our neural net.  The targets will have to undergo the same treatment. Use the word2idx dictionary you created previously to get the corresponding indexes for each token.  Finally transform these lists into torch tensors by using `torch.tensor(list)` so they can be fed as arguments to the TorchDataset class."
   ]
  },
  {
   "cell_type": "code",
   "execution_count": null,
   "id": "40663d34-8ccd-47df-996f-a77341c3c1d0",
   "metadata": {},
   "outputs": [],
   "source": [
    "from torch.utils.data import TensorDataset, DataLoader\n",
    "\n",
    "# create the context and target tensors\n",
    "contexts = torch.tensor([[word2idx[word] for word in context] for context, target in data], dtype=torch.long)\n",
    "targets = torch.tensor([word2idx[target] for context, target in data], dtype=torch.long)\n",
    "\n",
    "assert len(contexts) == len(targets)\n",
    "\n",
    "# create a DataLoader\n",
    "dataset = TensorDataset(contexts, targets)\n",
    "dataloader = DataLoader(dataset, batch_size=128)"
   ]
  },
  {
   "cell_type": "code",
   "execution_count": 10,
   "id": "7aa3aae6-2d8b-4c50-8826-fa2d69f3a755",
   "metadata": {},
   "outputs": [
    {
     "name": "stdout",
     "output_type": "stream",
     "text": [
      "torch.Size([111692, 4])\n",
      "tensor([[6915, 3668, 2386, 2649],\n",
      "        [3668, 6873, 2649, 5201]])\n",
      "tensor([6873, 2386])\n"
     ]
    }
   ],
   "source": [
    "print(contexts.shape)\n",
    "print(contexts[:2])\n",
    "print(targets[:2])"
   ]
  },
  {
   "cell_type": "markdown",
   "id": "a1271674-999e-4b20-a028-b336c336769a",
   "metadata": {},
   "source": [
    "Expected output:  \n",
    "\n",
    "torch.Size([111692, 4])  \n",
    "\n",
    "tensor([[6915, 3668, 2386, 2649],\n",
    "        [3668, 6873, 2649, 5201]])  \n",
    "        \n",
    "tensor([6873, 2386])"
   ]
  },
  {
   "cell_type": "markdown",
   "id": "bceefc1f-fd2f-45b0-813a-ae93d8f33ff1",
   "metadata": {},
   "source": [
    "#### 2.2 The Model architecture"
   ]
  },
  {
   "cell_type": "markdown",
   "id": "97f70a4d-8799-465c-8922-5698630f3995",
   "metadata": {},
   "source": [
    "Here is an overview of the model's architecture and how a single example flows through the layers :  "
   ]
  },
  {
   "cell_type": "markdown",
   "id": "155fef6b-8fe4-4466-a7c6-5fbb1b2e7e18",
   "metadata": {},
   "source": [
    "<div style='text-align:center;'/><img src='Diapositive1.png'>"
   ]
  },
  {
   "cell_type": "markdown",
   "id": "b66c5284-faed-47df-8d0a-7ef60c98a389",
   "metadata": {},
   "source": [
    "Take a look at the XOR notebook to see how a model class is created in pytorch (the init function and the forward function are the main components).\n",
    "\n",
    "You may add the `vocab_size` and number of embedding dimensions (`embedding_dim`) you want your embeddings to have (50 is a good choice) to the init parameters, so as to pass them in when you instantiate the model. \n",
    "\n",
    "Pytorch allows you to implement a special layer, called an embedding layer (`nn.Embedding`).  This special layer serves as a look-up table, mapping token indexes to vectors (**Embeddings**).  By default, the values in these vectors will be updated by the model with respect to our goal, which is to predict a token given the tokens surrouding it.  These 'trained' embeddings should therefore contain *distributional semantic* information that can be extracted from words appearing in the same context, which is what we're after.  Look at the the documentation to see what this layer takes as inputs : https://pytorch.org/docs/stable/generated/torch.nn.Embedding.html\n",
    "\n",
    "Then, add an output layer.  Be aware of the input and output sizes of the layer.  Take a look at the notebook on the XOR problem to see how to create a linear layer in pytorch.\n",
    "\n",
    "The `forward` function deals with the flow of data through the model.  In this case, it takes as input a *batch* of context vectors.\n",
    "This batch must first go through the embedding layer which returns 4 vectors (1 for each word) of equal dimension for each example in the batch.  With a batch size of 128 and an embedding dimension of 50, the shape of the output of the `nn.Embedding` layer will be:  (128, 4, 50):  128 matrices (one per example in the batch) of 4 by 50 (one 50 dimensional vector per context word).\n",
    "\n",
    "\n",
    "For each example in the batch, you will compute the average these 4 vectors to obtain a single vector.  This means you must specify that the mean calculated has to be along dimension 1 (the one equal to 4).  This is why the model is called Continuous Bag of Words: we don’t consider the order of the context words when averaging their embeddings in this way; that information is lost.\n",
    "\n",
    "Finally, all that is left is to pass the batch of averaged vectors to the output layer !\n",
    "\n",
    "No need to use the softmax function as a final activation function here, this will be done automatically by the loss function in the training loop (cf. next section)."
   ]
  },
  {
   "cell_type": "code",
   "execution_count": 13,
   "id": "fe1dfcc6-3695-442f-921f-fc8dcbef10f3",
   "metadata": {
    "collapsed": true,
    "jupyter": {
     "outputs_hidden": true
    },
    "tags": []
   },
   "outputs": [],
   "source": [
    "# Create the Neural Net (replace underscores and None)\n",
    "\n",
    "class CBOW(nn.Module):\n",
    "    def __init__(self, vocab_size, embedding_dim):\n",
    "        super(CBOW, self).__init__()\n",
    "        # embedding layer\n",
    "        self.embeddings = nn.Embedding(vocab_size, embedding_dim)\n",
    "        # output layer\n",
    "        self.output = nn.Linear(embedding_dim, vocab_size)\n",
    "\n",
    "    def forward(self, batch):\n",
    "        # get the embeddings from the Embedding layer and average them along dim=1.\n",
    "        # use .shape to see what shape the batch has before and after going through \n",
    "        # each layer if you need to\n",
    "        embedded = self.embeddings(batch)\n",
    "        embedded = embedded.mean(dim=1)\n",
    "        \n",
    "        # pass the batch through the output layer to get the logits and return the final output.\n",
    "        # the output should be a matrix with dimensions batch_size x vocab_size\n",
    "        output = self.output(embedded)\n",
    "        return output\n",
    "        "
   ]
  },
  {
   "cell_type": "code",
   "execution_count": 14,
   "id": "4b56d320-7eba-4130-af1e-6224784cc9d1",
   "metadata": {
    "collapsed": true,
    "jupyter": {
     "outputs_hidden": true
    },
    "tags": []
   },
   "outputs": [
    {
     "name": "stdout",
     "output_type": "stream",
     "text": [
      "CBOW(\n",
      "  (embeddings): Embedding(7860, 50)\n",
      "  (output): Linear(in_features=50, out_features=7860, bias=True)\n",
      ")\n"
     ]
    }
   ],
   "source": [
    "# set random seed to instantiate the model weights at random in a *reproducible* fashion\n",
    "# this means running this cell will reinitialize the embeddings to the same random initial values when you\n",
    "# try different hyperparameters\n",
    "torch.manual_seed(42)\n",
    "\n",
    "#instantiate the model\n",
    "model = CBOW(vocab_size, \n",
    "             embedding_dim=50)\n",
    "print(model)"
   ]
  },
  {
   "cell_type": "markdown",
   "id": "3e37598e-f290-4b7c-b884-3b83cb2f4321",
   "metadata": {},
   "source": [
    "Your model should look something like this :\n",
    "\n",
    "CBOW(  \n",
    "  (embeddings): Embedding(7860, 50)  \n",
    "  (output): Linear(in_features=50, out_features=7860, bias=True)  \n",
    ")"
   ]
  },
  {
   "cell_type": "markdown",
   "id": "6fff8ba7-4287-4ef9-83c3-0d5d078fa26b",
   "metadata": {},
   "source": [
    "#### 2.3 Visualizing word vectors and similarities before training"
   ]
  },
  {
   "cell_type": "markdown",
   "id": "50af9d26-23af-47e7-9879-92c2a9a1816c",
   "metadata": {},
   "source": [
    "To see if training the model on this task has had a desirable effect on the word vectors (which are randomly initialized when you instantiate the model), it can be useful to compare the vectors for certain words before vs. after training.  The code in the next 2 cells shows similarity measures between vectors and plots vectors in space after reducing their dimensionality to 2.\n",
    "\n",
    "The list of words used can be changed as you wish.  "
   ]
  },
  {
   "cell_type": "code",
   "execution_count": 15,
   "id": "ab062724-8b94-4c99-95e9-7c8da632da5c",
   "metadata": {},
   "outputs": [],
   "source": [
    "import numpy as np\n",
    "import seaborn as sns\n",
    "from sklearn.decomposition import PCA\n",
    "import matplotlib.pyplot as plt"
   ]
  },
  {
   "cell_type": "code",
   "execution_count": 16,
   "id": "2eda1fbc-f595-47e5-9f3d-b920cbac5adb",
   "metadata": {},
   "outputs": [],
   "source": [
    "# list of words to study\n",
    "words = ['man', 'king', 'lord', 'woman', 'queen', 'lady']"
   ]
  },
  {
   "cell_type": "code",
   "execution_count": 17,
   "id": "7a1dfab6-8029-4f33-84a4-af787df9ac5c",
   "metadata": {},
   "outputs": [],
   "source": [
    "# the embeddings for the words, randomly initialized by the model\n",
    "embeddings_bef = np.array([model.embeddings(torch.tensor(word2idx[word],dtype=torch.long)).detach().numpy() \n",
    "                       for word in words]).squeeze()"
   ]
  },
  {
   "cell_type": "code",
   "execution_count": 18,
   "id": "d1120dd2-0adc-497a-842f-24dbdbe1ecad",
   "metadata": {
    "collapsed": true,
    "jupyter": {
     "outputs_hidden": true
    },
    "tags": []
   },
   "outputs": [
    {
     "data": {
      "image/png": "[encoded data removed]",
      "text/plain": [
       "<Figure size 640x480 with 1 Axes>"
      ]
     },
     "metadata": {},
     "output_type": "display_data"
    }
   ],
   "source": [
    "# Plotting the vectors\n",
    "# In order to plot and visualize the vectors in 2D, we can use an algorithm called *Principal Component Analysis (PCA)* \n",
    "# to reduce the vectors' dimensions from 50 (or whichever dimension you chose) down to 2.  This can be easily done using `sklearn`.  \n",
    "\n",
    "\n",
    "# perform PCA (reduce to 2 dimensions)\n",
    "pca = PCA(n_components=2)\n",
    "reduced = pca.fit_transform(embeddings_bef)\n",
    "\n",
    "# plotting the 2D vectors\n",
    "plt.scatter(reduced[:,1], reduced[:, 0])\n",
    "for i, word in enumerate(words):\n",
    "    plt.annotate(word, xy=(reduced[i, 1], reduced[i, 0]))\n",
    "plt.show()\n",
    "# plt.savefig(\"plot.pdf\") # save fig to pdf"
   ]
  },
  {
   "cell_type": "markdown",
   "id": "d7875306",
   "metadata": {},
   "source": [
    "- \"queen\" is positioned at the top, which indicates a distinct direction in the 2D space compared to other words\n",
    "- \"king\" and \"man\" are relatively close, suggesting some similarity or relation in their embeddings\n",
    "- \"lady\" and \"lord\" are closer to each other but further from \"king\" and \"queen\"\n",
    "- \"woman\" is positioned distinctly to the right"
   ]
  },
  {
   "cell_type": "code",
   "execution_count": 19,
   "id": "44074d49-d540-4b0d-9a20-51e80c1189e1",
   "metadata": {
    "collapsed": true,
    "jupyter": {
     "outputs_hidden": true
    },
    "tags": []
   },
   "outputs": [
    {
     "data": {
      "text/plain": [
       "<Axes: >"
      ]
     },
     "execution_count": 19,
     "metadata": {},
     "output_type": "execute_result"
    },
    {
     "data": {
      "image/png": "[encoded data removed]",
      "text/plain": [
       "<Figure size 640x480 with 2 Axes>"
      ]
     },
     "metadata": {},
     "output_type": "display_data"
    }
   ],
   "source": [
    "# This code creates a heatmap showing the cosine similarity between each of the words in the list\n",
    "\n",
    "# compute cosine simil between words\n",
    "dot_similarity = np.dot(embeddings_bef, embeddings_bef.T)\n",
    "norms = np.linalg.norm(embeddings_bef, axis=1)\n",
    "dot_similarity /= np.outer(norms, norms)\n",
    "\n",
    "# create heatmap (top half has been masked for more clarity, since it shows the same scores as the bottom half)\n",
    "mask = np.zeros_like(dot_similarity)\n",
    "mask[np.triu_indices_from(mask)] = True\n",
    "sns.heatmap(dot_similarity,\n",
    "            xticklabels=words,\n",
    "            yticklabels=words,\n",
    "            annot=True,\n",
    "            mask=mask,\n",
    "            cmap='viridis')\n",
    "# plt.savefig(\"heatmap.pdf\") # save fig to pdf"
   ]
  },
  {
   "cell_type": "markdown",
   "id": "25c4acf1",
   "metadata": {},
   "source": [
    "**High Similarity:**\n",
    "\"man\" and \"king\" have a similarity score of 0.24, indicating they are relatively similar. \"king\" and \"lord\" also show a high similarity of 0.21. \"woman\" and \"king\" have a similarity of 0.19, while \"woman\" and \"lord\" have a similarity of 0.071.\n",
    "\n",
    "**Low Similarity:**\n",
    "\"queen\" and \"lord\" have a similarity of -0.29, indicating a significant dissimilarity. \"queen\" and \"woman\" have a similarity of -0.17.\n"
   ]
  },
  {
   "cell_type": "markdown",
   "id": "bf2e7021-d626-4120-b783-34763c8c082f",
   "metadata": {},
   "source": [
    "#### **Question** : \n",
    "\n",
    "How do you think the cosine similarity scores will/should change after training ?  In the plot, how would you expect the vectors to move ?  Which word vectors should end up closer/farther ?\n",
    "\n",
    "Before training, word vectors are randomly initialized, leading to a random distribution in the vector space. During training, word vectors are adjusted based on contextual information to capture semantic relationships between words\n",
    "\n",
    "#### Expected Changes After Training\n",
    "\n",
    "1. **Cosine Similarity**:\n",
    "\n",
    "- before Training: Cosine similarity scores between word vectors are random, it does not reflect semantic relationships between words.\n",
    "- after Training: word vectors of semantically similar words (like \"king\" and \"queen,\" \"man\" and \"woman\") will have higher cosine similarity scores, which means they will be closer in the vector space. Conversely, word vectors of semantically dissimilar words like \"king\" and \"woman\", will have lower cosine similarity scores, which means that they will be further apart from each other.\n",
    "\n",
    "2. **Changes in 2D Vector Space (PCA visualization)**:\n",
    "- before Training: word vectors' 2D projections are randomly distributed.\n",
    "- After Training: semantically similar word vectors will move closer together. Semantically dissimilar word vectors will become more separated. For example, \"king\" and \"queen,\" \"man\" and \"woman,\" \"lord\" and \"lady\" are expected to form close clusters.\n",
    "\n",
    "#### Expected Vector Movements\n",
    "- Vectors moving closer together: \"man\" and \"woman\", \"king\" and \"queen\", \"lord\" and \"lady\"\n",
    "- Vectors moving further apart: \"man\" and \"queen\", \"woman\" and \"lord\", \"king\" and \"lady\"\n",
    "\n",
    "#### Specific Predictions\n",
    "**Cosine Similarity Changes**:\n",
    "- The similarity between \"king\" and \"queen\", \"man\" and \"woman\", \"lord\" and \"lady\" will increase.\n",
    "- The similarity between unrelated word pairs (for example, \"king\" and \"woman\") will decrease.\n",
    "\n",
    "**PCA Projection Movements**:\n",
    "\"king\" and \"queen\", \"man\" and \"woman\",\"lord\" and \"lady\" will be closer together. Other words that are not related will be farther apart."
   ]
  },
  {
   "cell_type": "markdown",
   "id": "f759c59f-e064-4d7d-8da0-1ffa743e1c4b",
   "metadata": {},
   "source": [
    "#### 2.4 Training Loop"
   ]
  },
  {
   "cell_type": "markdown",
   "id": "1449c12b-df5c-484e-8596-c75d2df88b91",
   "metadata": {},
   "source": [
    "Start by selecting the appropriate loss function and optimizer.  You may use `nn.CrossEntropyLoss()` as a loss function and `torch.optim.SGD`for the optimizer.  This optimizer is an implementation of the Gradient Descent algorithm and takes as arguments `model.parameters()`, the model's parameters, and `lr` the learning rate, which can be set to 0.1 when using batches of 128 (experiment with different values here).  \n",
    "\n",
    "Next you can run the model for 150-200 epochs or until you find little to no change between current_loss and prev_loss.  This should be able to run on your computer, but if not just copy import the notebook into colab.  The fact that we divided the training data into batches means each epoch should take a few secs instead of several minutes.  (Batching is usually used in conjunction with a GPU but can speed things up even on a CPU, which is what we are using here.)\n",
    "\n",
    "*NOTE: until you reset the parameters by re-instantiating the model, the training loop will continue from where it left off. If you stop and then retstart the cell below, you will continue training the parameters from the last epoch.*"
   ]
  },
  {
   "cell_type": "code",
   "execution_count": 22,
   "id": "06a08957-edaf-4501-a939-5254f62ee363",
   "metadata": {
    "tags": []
   },
   "outputs": [
    {
     "name": "stdout",
     "output_type": "stream",
     "text": [
      "7.630125999450684\n",
      "8.123096942901611\n",
      "7.055812835693359\n",
      "6.861090898513794\n",
      "7.051764965057373\n",
      "7.208931922912598\n",
      "7.044908046722412\n",
      "8.473445177078247\n",
      "7.420208930969238\n",
      "Epoch 10 : 5719.865312576294\n",
      "7.67868709564209\n",
      "7.133912086486816\n",
      "6.896860837936401\n",
      "7.19783091545105\n",
      "7.248764991760254\n",
      "6.950380086898804\n",
      "7.397235870361328\n",
      "7.09414005279541\n",
      "7.392399311065674\n",
      "6.907635927200317\n",
      "Epoch 20 : 5546.072496891022\n",
      "6.878554821014404\n",
      "7.043787956237793\n",
      "7.3876800537109375\n",
      "6.928537130355835\n",
      "6.916067838668823\n",
      "7.046053886413574\n",
      "7.115879058837891\n",
      "7.070931911468506\n",
      "6.827790975570679\n",
      "7.0122621059417725\n",
      "Epoch 30 : 5429.001290798187\n",
      "6.989850997924805\n",
      "7.437119007110596\n",
      "14.334812879562378\n",
      "10.850450277328491\n",
      "9.436949968338013\n",
      "8.995310068130493\n",
      "9.53547716140747\n",
      "11.020841121673584\n",
      "8.490478038787842\n",
      "9.81548523902893\n",
      "Epoch 40 : 5342.341783046722\n",
      "8.493046998977661\n",
      "11.909640073776245\n",
      "8.886500835418701\n",
      "7.5503089427948\n",
      "7.574265956878662\n",
      "8.790080070495605\n",
      "6.858623027801514\n",
      "7.395879745483398\n",
      "6.975260257720947\n",
      "6.92613410949707\n",
      "Epoch 50 : 5274.970576763153\n",
      "6.845242261886597\n",
      "7.326776742935181\n",
      "7.412300109863281\n",
      "8.111448049545288\n",
      "9.919493913650513\n",
      "8.107527017593384\n",
      "8.425698041915894\n",
      "7.973236083984375\n",
      "8.232951879501343\n",
      "11.326515913009644\n",
      "Epoch 60 : 5220.572528839111\n",
      "6.974315166473389\n",
      "6.932276964187622\n",
      "7.376011848449707\n",
      "7.010473966598511\n",
      "6.8886120319366455\n",
      "6.987253904342651\n",
      "7.238940000534058\n",
      "7.124437093734741\n",
      "7.01274299621582\n",
      "7.2662248611450195\n",
      "Epoch 70 : 5175.288046360016\n",
      "7.58730411529541\n",
      "7.694146156311035\n",
      "5.386136054992676\n",
      "4.960257053375244\n",
      "4.897574186325073\n",
      "4.933665990829468\n",
      "5.531268119812012\n",
      "5.353133201599121\n",
      "6.36393666267395\n",
      "8.184712886810303\n",
      "Epoch 80 : 5136.6276659965515\n",
      "5.1400110721588135\n",
      "5.136576890945435\n",
      "5.478934049606323\n",
      "5.254956960678101\n",
      "4.987843751907349\n",
      "4.9465391635894775\n",
      "4.982796907424927\n",
      "4.966608762741089\n",
      "4.967272758483887\n",
      "5.186609745025635\n",
      "Epoch 90 : 5102.954337120056\n",
      "5.0921571254730225\n",
      "4.962712049484253\n",
      "4.996646881103516\n",
      "4.945817947387695\n",
      "4.983860015869141\n",
      "4.975719928741455\n",
      "5.030860185623169\n",
      "5.01392936706543\n",
      "8.125708818435669\n",
      "5.072478294372559\n",
      "Epoch 100 : 5073.157242298126\n",
      "5.000270843505859\n",
      "4.99471116065979\n",
      "5.110807657241821\n",
      "4.961731195449829\n",
      "5.663225889205933\n",
      "5.449175119400024\n",
      "5.110001802444458\n",
      "5.006525039672852\n",
      "5.024744033813477\n",
      "5.0224449634552\n",
      "Epoch 110 : 5046.447310447693\n",
      "5.379242181777954\n",
      "5.870721101760864\n",
      "5.790717124938965\n",
      "5.062388896942139\n",
      "5.137663841247559\n",
      "5.0719239711761475\n",
      "5.14099383354187\n",
      "5.000119924545288\n",
      "5.1168372631073\n",
      "5.0046961307525635\n",
      "Epoch 120 : 5022.241837024689\n",
      "5.266223907470703\n",
      "5.913749933242798\n",
      "5.572083234786987\n",
      "5.034686088562012\n",
      "4.924329996109009\n",
      "4.982708930969238\n",
      "4.954653978347778\n",
      "5.352329969406128\n",
      "5.533406972885132\n",
      "5.941455841064453\n",
      "Epoch 130 : 5000.097448348999\n",
      "5.111040115356445\n",
      "5.024103164672852\n",
      "5.517566919326782\n",
      "4.933652400970459\n",
      "4.955247163772583\n",
      "4.852356195449829\n",
      "5.287434816360474\n",
      "5.385625839233398\n",
      "4.907318592071533\n",
      "5.303600072860718\n",
      "Epoch 140 : 4979.669870853424\n",
      "5.122598886489868\n",
      "5.019657135009766\n",
      "5.453030109405518\n",
      "4.965863227844238\n",
      "5.262824058532715\n",
      "4.983933925628662\n",
      "5.509348154067993\n",
      "5.450629234313965\n",
      "5.039449214935303\n",
      "4.984318971633911\n",
      "Epoch 150 : 4960.688416957855\n",
      "4.960206747055054\n"
     ]
    }
   ],
   "source": [
    "import time\n",
    "\n",
    "#  the loss function and optimizer\n",
    "loss_function = nn.CrossEntropyLoss()\n",
    "optimizer = optim.SGD(model.parameters(), lr=0.01)\n",
    "epochs = 150\n",
    "\n",
    "#TRAINING\n",
    "# around 4s per epoch on my machine (small version)\n",
    "# you can track the time passed per epoch by decommenting the time1 line and the print(time.time...) at the end.\n",
    "for epoch in range(epochs):\n",
    "    time1 = time.time()\n",
    "    \n",
    "    # initiliaze the total_loss for each epoch to 0\n",
    "    total_loss = 0\n",
    "\n",
    "    # the dataloader is a generator object, it produces a batch of contexts and targets when you iterate over it.\n",
    "    for context, target in dataloader:\n",
    "        \n",
    "        # get the logits\n",
    "        logits = model(context)\n",
    "        \n",
    "        # calculate the loss by passing the logits and targets to the loss_function\n",
    "        loss = loss_function(logits, target)\n",
    "        \n",
    "        # add the loss value to the total_loss (use loss.item() to get the value as a standard number vs a pytorch tensor)\n",
    "        total_loss += loss.item()\n",
    "\n",
    "        \n",
    "        # optimize the network weights using the three steps seen in the XOR notebook\n",
    "        optimizer.zero_grad()\n",
    "        loss.backward()\n",
    "        optimizer.step()\n",
    "    \n",
    "    # track the loss by printing it every 10 epochs (replace with 1 to see the time passed per epoch)\n",
    "    if (epoch+1) % 10 == 0:\n",
    "        print(f'Epoch {epoch+1} : {total_loss}')\n",
    "    \n",
    "    print(time.time()-time1)"
   ]
  },
  {
   "cell_type": "markdown",
   "id": "e8ba283b",
   "metadata": {},
   "source": [
    "**Loss Reduction:** the total loss decreases over epochs, indicating that the model is learning and improving its performance on the training data. For example, the loss decreases from 5719.8653 at epoch 10 to 4960.6884 at epoch 150.\n",
    "\n",
    "**Epoch Duration:** The time per epoch varies slightly but is generally around 7-8 seconds on our machine. This consistency means that the load per epoch is stable."
   ]
  },
  {
   "cell_type": "code",
   "execution_count": 23,
   "id": "f294ea31-27e7-4b61-9b1e-6b0e29215f24",
   "metadata": {},
   "outputs": [
    {
     "data": {
      "text/plain": [
       "<All keys matched successfully>"
      ]
     },
     "execution_count": 23,
     "metadata": {},
     "output_type": "execute_result"
    }
   ],
   "source": [
    "# save your trained model for easier experimentation\n",
    "torch.save(model.state_dict(), f'cbow_model_{epochs}.pth') # add num of epochs to know which model this is for example\n",
    "\n",
    "# load your trained model whenever you want with\n",
    "model = CBOW(vocab_size, embedding_dim=50) # reset the model\n",
    "model.load_state_dict(torch.load('cbow_model_150.pth')) # load the saved weights"
   ]
  },
  {
   "attachments": {},
   "cell_type": "markdown",
   "id": "5324aef8-3f6a-41fc-badd-9357670650c8",
   "metadata": {
    "tags": []
   },
   "source": [
    "#### 2.5 Visualizing word vectors and similarities after training\n",
    "\n",
    "Using the same list of words as before, the next cells show the new similarities and plot the new word vectors.  \n",
    "#### What has changed ? \n",
    "**for the scatter plot**:\n",
    "- Words like \"queen\" and \"king\" have moved closer to each other. \"man\" and \"woman\" have distinct placements but are closer in some semantic space, indicating learned relationships.\n",
    "**for the heatmap**:\n",
    "The similarity between \"man\" and \"king\" increased slightly to 0.25. Negative similarity values have slightly shifted, like \"queen\" and \"lord\" changed to -0.28, showing the model has imporved. Similarities between semantically related words have increased slightly, indicating also some learning.\n",
    "\n",
    "#### Do the results seem to verify your hypotheses ? \n",
    "Ideally, words that are semantically similar should move closer together in the embedding space. From our result, we indeed notice a slight movement in this direction. but the changes in the embeddings are very subtle as predicted since the project is a toy example.\n",
    "\n",
    "#### How do you think the results could be improved ?\n",
    "1. we can increase the amount of training text to provide the model with more context and examples to learn from\n",
    "2. can also increase the number of training epochs to allow the model to learn more refined relationships\n",
    "3. we will try changing the hyperparameters as follows:\n",
    "\n",
    "* number of embedding dimensions (ie. size of the embeddings)\n",
    "* learning rate\n",
    "* number of epochs\n",
    "* batch size (optionally)\n",
    "\n",
    "Training word vectors requires large amounts of text.  This project is a toy example, so do not be discouraged if differences are small... Try to still look for anything noteworthy.  How would you expect the vectors to move ? "
   ]
  },
  {
   "cell_type": "code",
   "execution_count": 24,
   "id": "3ecab8dd-320d-4e7c-9d70-cb87192bf4d8",
   "metadata": {},
   "outputs": [],
   "source": [
    "embeddings_aft = np.array([model.embeddings(torch.tensor(word2idx[word],dtype=torch.long)).detach().numpy() \n",
    "                       for word in words]).squeeze()"
   ]
  },
  {
   "cell_type": "code",
   "execution_count": 25,
   "id": "22e90dfa-1fdb-4d1d-9aae-e38b7258d5b0",
   "metadata": {
    "collapsed": true,
    "jupyter": {
     "outputs_hidden": true
    },
    "tags": []
   },
   "outputs": [
    {
     "name": "stdout",
     "output_type": "stream",
     "text": [
      "[ 1.1147616  -0.14794436]\n"
     ]
    },
    {
     "data": {
      "image/png": "[encoded data removed]",
      "text/plain": [
       "<Figure size 640x480 with 1 Axes>"
      ]
     },
     "metadata": {},
     "output_type": "display_data"
    }
   ],
   "source": [
    "reduced = pca.fit_transform(embeddings_aft)\n",
    "print(reduced[0])\n",
    "\n",
    "plt.scatter(reduced[:,1], reduced[:, 0])\n",
    "for i, word in enumerate(words):\n",
    "    plt.annotate(word, xy=(reduced[i, 1], reduced[i, 0]))\n",
    "plt.show()\n",
    "# plt.savefig(\"plot.pdf\") # save fig to pdf"
   ]
  },
  {
   "cell_type": "code",
   "execution_count": 26,
   "id": "dd25c308-ebfa-4b2f-8d7b-eab54471afbe",
   "metadata": {},
   "outputs": [
    {
     "data": {
      "text/plain": [
       "<Axes: >"
      ]
     },
     "execution_count": 26,
     "metadata": {},
     "output_type": "execute_result"
    },
    {
     "data": {
      "image/png": "[encoded data removed]",
      "text/plain": [
       "<Figure size 640x480 with 2 Axes>"
      ]
     },
     "metadata": {},
     "output_type": "display_data"
    }
   ],
   "source": [
    "dot_similarity = np.dot(embeddings_aft, embeddings_aft.T)\n",
    "norms = np.linalg.norm(embeddings_aft, axis=1)\n",
    "dot_similarity /= np.outer(norms, norms)\n",
    "\n",
    "mask = np.zeros_like(dot_similarity)\n",
    "mask[np.triu_indices_from(mask)] = True\n",
    "sns.heatmap(dot_similarity,\n",
    "            xticklabels=words,\n",
    "            yticklabels=words,\n",
    "            annot=True,\n",
    "            mask=mask,\n",
    "            cmap='viridis')\n",
    "# plt.savefig(\"heatmap.pdf\") # save fig to pdf"
   ]
  }
 ],
 "metadata": {
  "kernelspec": {
   "display_name": "Python 3 (ipykernel)",
   "language": "python",
   "name": "python3"
  },
  "language_info": {
   "codemirror_mode": {
    "name": "ipython",
    "version": 3
   },
   "file_extension": ".py",
   "mimetype": "text/x-python",
   "name": "python",
   "nbconvert_exporter": "python",
   "pygments_lexer": "ipython3",
   "version": "3.9.18"
  }
 },
 "nbformat": 4,
 "nbformat_minor": 5
}
